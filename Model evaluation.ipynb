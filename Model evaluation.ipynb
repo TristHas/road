{
 "cells": [
  {
   "cell_type": "code",
   "execution_count": 1,
   "metadata": {},
   "outputs": [],
   "source": [
    "gpu_id = 1\n",
    "\n",
    "device = f\"cuda:{gpu_id}\"\n",
    "batch_size = 8\n",
    "num_workers = batch_size"
   ]
  },
  {
   "cell_type": "code",
   "execution_count": 4,
   "metadata": {},
   "outputs": [],
   "source": [
    "import sys\n",
    "sys.path.append(\"./road\")\n",
    "import torch\n",
    "\n",
    "from data import RoadDamageDataset, get_transform \n",
    "from models import get_model_detection\n",
    "from evaluation import DetectionEvaluator\n",
    "import utils\n",
    "from config import model_path as model_dir\n",
    "\n",
    "%load_ext autoreload\n",
    "%autoreload 2"
   ]
  },
  {
   "cell_type": "code",
   "execution_count": 5,
   "metadata": {},
   "outputs": [],
   "source": [
    "mode = \"class\"\n",
    "model_path = f\"{model_dir}/models/class/resnet101_lr_0.005_annealing_6/epoch_23\""
   ]
  },
  {
   "cell_type": "code",
   "execution_count": null,
   "metadata": {},
   "outputs": [
    {
     "name": "stderr",
     "output_type": "stream",
     "text": [
      "  0%|          | 0/395 [00:00<?, ?it/s]/home/tristan/anaconda3/envs/detectron/lib/python3.8/site-packages/torch/nn/functional.py:2854: UserWarning: The default behavior for interpolate/upsample with float scale_factor will change in 1.6.0 to align with other frameworks/libraries, and use scale_factor directly, instead of relying on the computed output size. If you wish to keep the old behavior, please set recompute_scale_factor=True. See the documentation of nn.Upsample for details. \n",
      "  warnings.warn(\"The default behavior for interpolate/upsample with float scale_factor will change \"\n",
      "/opt/conda/conda-bld/pytorch_1587428207430/work/torch/csrc/utils/python_arg_parser.cpp:756: UserWarning: This overload of nonzero is deprecated:\n",
      "\tnonzero(Tensor input, *, Tensor out)\n",
      "Consider using one of the following signatures instead:\n",
      "\tnonzero(Tensor input, *, bool as_tuple)\n",
      " 75%|███████▌  | 298/395 [02:32<00:49,  1.97it/s]"
     ]
    }
   ],
   "source": [
    "dataset = RoadDamageDataset(split=\"val\", mode=mode, transforms=get_transform(False))\n",
    "dl = torch.utils.data.DataLoader(\n",
    "    dataset, batch_size=batch_size, shuffle=False, \n",
    "    num_workers=num_workers,\n",
    "    collate_fn=utils.collate_fn,\n",
    ")\n",
    "model = get_model_detection(dataset.nclass()).to(device)\n",
    "\n",
    "model.load_state_dict(torch.load(model_path, map_location=device));\n",
    "model.eval();\n",
    "dt_eval = DetectionEvaluator(model, dl)\n",
    "dt_eval.plt_summary(.5)"
   ]
  },
  {
   "cell_type": "code",
   "execution_count": null,
   "metadata": {},
   "outputs": [],
   "source": [
    "dt_eval.fscore(.8)"
   ]
  },
  {
   "cell_type": "code",
   "execution_count": null,
   "metadata": {},
   "outputs": [],
   "source": [
    "offset=0"
   ]
  },
  {
   "cell_type": "code",
   "execution_count": null,
   "metadata": {},
   "outputs": [],
   "source": [
    "offset+=1\n",
    "imprec = plt_sorted_results(dt_eval, sc_thr=.7, sorting=\"precision\", offset=offset)"
   ]
  },
  {
   "cell_type": "code",
   "execution_count": null,
   "metadata": {},
   "outputs": [],
   "source": []
  },
  {
   "cell_type": "code",
   "execution_count": null,
   "metadata": {},
   "outputs": [],
   "source": [
    "offset=0"
   ]
  },
  {
   "cell_type": "code",
   "execution_count": null,
   "metadata": {},
   "outputs": [],
   "source": [
    "offset+=1\n",
    "imprec = plt_sorted_results(dt_eval, sc_thr=.7, sorting=\"recall\", offset=offset)"
   ]
  },
  {
   "cell_type": "code",
   "execution_count": null,
   "metadata": {},
   "outputs": [],
   "source": []
  },
  {
   "cell_type": "code",
   "execution_count": null,
   "metadata": {},
   "outputs": [],
   "source": []
  }
 ],
 "metadata": {
  "kernelspec": {
   "display_name": "Python 3",
   "language": "python",
   "name": "python3"
  },
  "language_info": {
   "codemirror_mode": {
    "name": "ipython",
    "version": 3
   },
   "file_extension": ".py",
   "mimetype": "text/x-python",
   "name": "python",
   "nbconvert_exporter": "python",
   "pygments_lexer": "ipython3",
   "version": "3.8.3"
  }
 },
 "nbformat": 4,
 "nbformat_minor": 4
}
